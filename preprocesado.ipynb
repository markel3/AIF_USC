{
 "cells": [
  {
   "cell_type": "markdown",
   "metadata": {},
   "source": [
    "Importamos todos los paquetes necesarios para el proyecto:"
   ]
  },
  {
   "cell_type": "code",
   "execution_count": 1,
   "metadata": {},
   "outputs": [],
   "source": [
    "from search import *\n",
    "from utils import *\n",
    "import matplotlib.pyplot as plt\n",
    "import os\n",
    "import numpy as np"
   ]
  },
  {
   "cell_type": "markdown",
   "metadata": {},
   "source": [
    "Definimos la orientación de cada vector"
   ]
  },
  {
   "cell_type": "code",
   "execution_count": 2,
   "metadata": {},
   "outputs": [],
   "source": [
    "# Vectores de dirección para las orientaciones\n",
    "orientation_vectors = {\n",
    "    0: (0, -1),   # North\n",
    "    1: (1, -1), # Northeast\n",
    "    2: (1, 0),    # East\n",
    "    3: (1, 1),  # Southeast\n",
    "    4: (0, 1),    # South\n",
    "    5: (-1, 1), # Southwest\n",
    "    6: (-1, 0),   # West\n",
    "    7: (-1, -1) # Northwest\n",
    "}"
   ]
  },
  {
   "cell_type": "code",
   "execution_count": 3,
   "metadata": {},
   "outputs": [],
   "source": [
    "# Vectores de dirección para las orientaciones\n",
    "orientation_vectors = {\n",
    "    0: (-1, 0),   # North\n",
    "    1: (-1, 1), # Northeast\n",
    "    2: (0, 1),    # East\n",
    "    3: (1, 1),  # Southeast\n",
    "    4: (1, 0),    # South\n",
    "    5: (1, -1), # Southwest\n",
    "    6: (0, -1),   # West\n",
    "    7: (-1, -1) # Northwest\n",
    "}"
   ]
  },
  {
   "cell_type": "markdown",
   "metadata": {},
   "source": [
    "## Lectura de los datos"
   ]
  },
  {
   "cell_type": "markdown",
   "metadata": {},
   "source": [
    "La función `read_map` permite procesar los distintos elementos presentes en el fichero de definición del problema. \n",
    "\n",
    "Recibe:\n",
    "- *file*: nombre del fichero.\n",
    "- *origin_dir*: directorio en el que está el fichero. Por defecto toma el de trabajo.\n",
    "\n",
    "Devuelve:\n",
    "- *dimension*: dimensiones del mapa.\n",
    "- *map_data*: matriz con el mapa.\n",
    "- *start_point*: lista de tamaño 3 con el punto y la orientación iniciales.\n",
    "- *end_point*: lista de tamaño 2 con el punto final."
   ]
  },
  {
   "cell_type": "code",
   "execution_count": 4,
   "metadata": {},
   "outputs": [],
   "source": [
    "def read_map(file, origin_dir = os.getcwd()):\n",
    "    \n",
    "    file_path = os.path.join(origin_dir, file)\n",
    "    \n",
    "    # Abrir y leer el archivo\n",
    "    with open(file_path, 'r') as file:\n",
    "        lines = file.readlines()\n",
    "\n",
    "    # Leer la dimensión del mapa (primera línea)\n",
    "    dimension = list(map(int, lines[0].split()))\n",
    "    rows, cols = dimension  # Número de filas y columnas\n",
    "\n",
    "    # Leer el mapa según las dimensiones especificadas\n",
    "    map_data = np.array([list(map(int, lines[i + 1].split())) for i in range(rows)])\n",
    "\n",
    "    # Leer el punto inicial y su orientación (penúltima línea)\n",
    "    start_position = tuple(map(int, lines[-2].split()))\n",
    "\n",
    "    # Leer el punto final y su orientación (última línea)\n",
    "    end_position = tuple(map(int, lines[-1].split()))[:2]\n",
    "    \n",
    "    return dimension, map_data, start_position, end_position"
   ]
  },
  {
   "cell_type": "markdown",
   "metadata": {},
   "source": [
    "La función `draw_map` permite representar visualmente el mapa del problema. \n",
    "\n",
    "Recibe:\n",
    "- *dimension*: dimensiones del mapa.\n",
    "- *map_data*: matriz con el mapa.\n",
    "- *start_point*: lista de tamaño 3 con el punto y la orientación iniciales.\n",
    "- *end_point*: lista de tamaño 2 con el punto final."
   ]
  },
  {
   "cell_type": "code",
   "execution_count": 5,
   "metadata": {},
   "outputs": [],
   "source": [
    "# Mostrar el mapa en una forma visual usando matplotlib\n",
    "def draw_map(dimension, map_data, start_position, end_position):\n",
    "    # Convertir el mapa en una matriz numpy\n",
    "    map_array = np.array(map_data)\n",
    "    \n",
    "    rows, cols = dimension[0], dimension[1]\n",
    "    \n",
    "    orientation = start_position[2]\n",
    "\n",
    "    # Dibujar el mapa\n",
    "    plt.imshow(map_array, cmap=\"Blues\", origin=\"upper\")\n",
    "    \n",
    "    # Agregar los valores de cada celda (peso)\n",
    "    for i in range(rows):\n",
    "        for j in range(cols):\n",
    "            plt.text(j, i, str(map_array[i, j]), color='black', fontsize=12, ha='center', va='center')\n",
    "\n",
    "    # Agregar el punto inicial y final\n",
    "    if orientation == 7:\n",
    "        plt.text(start_position[1]+0.3, start_position[0]+0.3, 'S', color='red', fontsize=12, ha='center', va='center', fontweight='bold')\n",
    "    else:\n",
    "        plt.text(start_position[1]-0.3, start_position[0]-0.3, 'S', color='red', fontsize=12, ha='center', va='center', fontweight='bold')\n",
    "    plt.text(end_position[1]-0.3, end_position[0]-0.3, 'E', color='green', fontsize=12, ha='center', va='center', fontweight='bold')\n",
    "    \n",
    "    # Agregar la orientación inicial como una flecha\n",
    "    arrow_dx, arrow_dy = [x/2 for x in orientation_vectors[orientation]]\n",
    "    plt.arrow(start_position[1]+arrow_dx/2, start_position[0]+arrow_dy/2, arrow_dx, arrow_dy, head_width=0.1, head_length=0.1, fc='red', ec='red')\n",
    "\n",
    "    # Configuración de la cuadrícula\n",
    "    plt.grid(True, color=\"black\", linewidth=1)\n",
    "    plt.xticks(np.arange(cols))\n",
    "    plt.yticks(np.arange(rows))\n",
    "\n",
    "    # Quitar la cuadrícula\n",
    "    plt.axis('off')\n",
    "\n",
    "    # Mostrar el mapa\n",
    "    plt.show()"
   ]
  },
  {
   "cell_type": "markdown",
   "metadata": {},
   "source": [
    "Dibujamos algunos ejemplos:"
   ]
  },
  {
   "cell_type": "code",
   "execution_count": 6,
   "metadata": {},
   "outputs": [
    {
     "data": {
      "image/png": "[encoded data removed]",
      "text/plain": [
       "<Figure size 640x480 with 1 Axes>"
      ]
     },
     "metadata": {},
     "output_type": "display_data"
    }
   ],
   "source": [
    "dimension, map_data, start_position, end_position = read_map(\"exampleMap.txt\")\n",
    "draw_map(dimension, map_data, start_position, end_position)"
   ]
  },
  {
   "cell_type": "code",
   "execution_count": 7,
   "metadata": {},
   "outputs": [
    {
     "data": {
      "image/png": "[encoded data removed]",
      "text/plain": [
       "<Figure size 640x480 with 1 Axes>"
      ]
     },
     "metadata": {},
     "output_type": "display_data"
    }
   ],
   "source": [
    "dimension, map_data, start_position, end_position = read_map(\"exampleMap_2.txt\")\n",
    "draw_map(dimension, map_data, start_position, end_position)"
   ]
  },
  {
   "cell_type": "code",
   "execution_count": 8,
   "metadata": {},
   "outputs": [],
   "source": [
    "class RobotProblem(Problem):\n",
    "\n",
    "    def __init__(self, initial, goal, map):\n",
    "        Problem.__init__(self, initial, goal)\n",
    "        self.map_data = map_data\n",
    "        self.dimensions = map_data.shape\n",
    "\n",
    "    def actions(self, state):\n",
    "        actions = []\n",
    "        actions.append((state[0], state[1], (state[2] - 1) % 8))\n",
    "        actions.append((state[0], state[1], (state[2] + 1) % 8))\n",
    "        new_position = [state[0] + orientation_vectors[state[2]][0], state[1] + orientation_vectors[state[2]][1]]\n",
    "        if 0 <= new_position[0] < self.dimensions[0] and 0 <= new_position[1] < self.dimensions[1]:\n",
    "            actions.append((new_position[0], new_position[1], state[2]))\n",
    "        return actions\n",
    "    \n",
    "    def result(self, state, action):\n",
    "        return action\n",
    "    \n",
    "    def goal_test(self, state):\n",
    "        return state[:2] == self.goal[:2]\n",
    "    \n",
    "    def path_cost(self, cost_so_far, state1, action, state2):\n",
    "        if state1[:2] == state2[:2]:\n",
    "            return cost_so_far + 1\n",
    "        else:\n",
    "            return cost_so_far + self.map_data[state2[0], state2[1]]"
   ]
  },
  {
   "cell_type": "code",
   "execution_count": 9,
   "metadata": {},
   "outputs": [
    {
     "data": {
      "text/plain": [
       "array([[3, 2, 4, 1],\n",
       "       [2, 3, 1, 2],\n",
       "       [1, 4, 2, 3]])"
      ]
     },
     "execution_count": 9,
     "metadata": {},
     "output_type": "execute_result"
    }
   ],
   "source": [
    "dimension, map_data, start_position, end_position = read_map(\"exampleMap.txt\")\n",
    "robot_problem = RobotProblem(start_position, end_position, map_data)\n",
    "robot_problem.map_data"
   ]
  },
  {
   "cell_type": "code",
   "execution_count": 10,
   "metadata": {},
   "outputs": [],
   "source": [
    "def breadth_first_graph_search(problem):\n",
    "    \"\"\"[Figure 3.11]\n",
    "    Note that this function can be implemented in a\n",
    "    single line as below:\n",
    "    return graph_search(problem, FIFOQueue())\n",
    "    \"\"\"\n",
    "    node = Node(problem.initial)\n",
    "    if problem.goal_test(node.state):\n",
    "        return node\n",
    "    frontier = deque([node])\n",
    "    explored = []\n",
    "    while frontier:\n",
    "        node = frontier.popleft()\n",
    "        explored.append(node.state)\n",
    "        for child in node.expand(problem):\n",
    "            if child.state not in explored and child not in frontier:\n",
    "                print(child.state)\n",
    "                if problem.goal_test(child.state):\n",
    "                    return child, explored\n",
    "                frontier.append(child)\n",
    "    return None"
   ]
  },
  {
   "cell_type": "code",
   "execution_count": 11,
   "metadata": {},
   "outputs": [
    {
     "name": "stdout",
     "output_type": "stream",
     "text": [
      "(0, 3, 7)\n",
      "(0, 3, 1)\n",
      "(0, 3, 6)\n",
      "(0, 3, 2)\n",
      "(0, 3, 5)\n",
      "(0, 2, 6)\n",
      "(0, 3, 3)\n",
      "(0, 3, 4)\n",
      "(1, 2, 5)\n",
      "[(0, 3, 7), (0, 3, 6), (0, 3, 5), (1, 2, 5)]\n",
      "4\n",
      "[(0, 3, 0), (0, 3, 7), (0, 3, 1), (0, 3, 6), (0, 3, 2), (0, 3, 5)]\n"
     ]
    }
   ],
   "source": [
    "node, explored = breadth_first_graph_search(robot_problem)\n",
    "print(node.solution())\n",
    "print(node.path_cost)\n",
    "print(explored)"
   ]
  },
  {
   "cell_type": "code",
   "execution_count": 12,
   "metadata": {},
   "outputs": [],
   "source": [
    "def depth_first_graph_search(problem):\n",
    "    \"\"\"\n",
    "    [Figure 3.7]\n",
    "    Search the deepest nodes in the search tree first.\n",
    "    Search through the successors of a problem to find a goal.\n",
    "    The argument frontier should be an empty queue.\n",
    "    Does not get trapped by loops.\n",
    "    If two paths reach a state, only use the first one.\n",
    "    \"\"\"\n",
    "    frontier = [(Node(problem.initial))]  # Stack\n",
    "\n",
    "    explored = []\n",
    "    while frontier:\n",
    "        node = frontier.pop()\n",
    "        if problem.goal_test(node.state):\n",
    "            return node, explored\n",
    "        explored.append(node.state)\n",
    "        frontier.extend(child for child in node.expand(problem)\n",
    "                        if child.state not in explored and child not in frontier)\n",
    "    return None"
   ]
  },
  {
   "cell_type": "code",
   "execution_count": 13,
   "metadata": {},
   "outputs": [
    {
     "name": "stdout",
     "output_type": "stream",
     "text": [
      "[(0, 3, 1), (0, 3, 2), (0, 3, 3), (0, 3, 4), (1, 3, 4), (2, 3, 4), (2, 3, 5), (2, 3, 6), (2, 2, 6), (2, 1, 6), (2, 0, 6), (2, 0, 7), (2, 0, 0), (1, 0, 0), (0, 0, 0), (0, 0, 1), (0, 0, 2), (0, 1, 2), (0, 2, 2), (0, 2, 3), (0, 2, 4), (1, 2, 4)]\n",
      "36\n",
      "[(0, 3, 0), (0, 3, 1), (0, 3, 2), (0, 3, 3), (0, 3, 4), (1, 3, 4), (2, 3, 4), (2, 3, 5), (2, 3, 6), (2, 2, 6), (2, 1, 6), (2, 0, 6), (2, 0, 7), (2, 0, 0), (1, 0, 0), (0, 0, 0), (0, 0, 1), (0, 0, 2), (0, 1, 2), (0, 2, 2), (0, 2, 3), (0, 2, 4)]\n"
     ]
    }
   ],
   "source": [
    "node, explored = depth_first_graph_search(robot_problem)\n",
    "print(node.solution())\n",
    "print(node.path_cost)\n",
    "print(explored)"
   ]
  },
  {
   "cell_type": "code",
   "execution_count": 23,
   "metadata": {},
   "outputs": [],
   "source": [
    "def best_first_graph_search(problem, f, display=False):\n",
    "    \"\"\"Search the nodes with the lowest f scores first.\n",
    "    You specify the function f(node) that you want to minimize; for example,\n",
    "    if f is a heuristic estimate to the goal, then we have greedy best\n",
    "    first search; if f is node.depth then we have breadth-first search.\n",
    "    There is a subtlety: the line \"f = memoize(f, 'f')\" means that the f\n",
    "    values will be cached on the nodes as they are computed. So after doing\n",
    "    a best first search you can examine the f values of the path returned.\"\"\"\n",
    "    f = memoize(f, 'f')\n",
    "    node = Node(problem.initial)\n",
    "    frontier = PriorityQueue('min', f)\n",
    "    frontier.append(node)\n",
    "    explored = []\n",
    "    while frontier:\n",
    "        node = frontier.pop()\n",
    "        if problem.goal_test(node.state):\n",
    "            if display:\n",
    "                print(len(explored), \"paths have been expanded and\", len(frontier), \"paths remain in the frontier\")\n",
    "            return node, explored\n",
    "        explored.append(node.state)\n",
    "        for child in node.expand(problem):\n",
    "            if child.state not in explored and child not in frontier:\n",
    "                frontier.append(child)\n",
    "            elif child in frontier:\n",
    "                if f(child) < frontier[child]:\n",
    "                    del frontier[child]\n",
    "                    frontier.append(child)\n",
    "    return None"
   ]
  },
  {
   "cell_type": "code",
   "execution_count": 24,
   "metadata": {},
   "outputs": [],
   "source": [
    "def astar_search(problem, h=None, display=False):\n",
    "    \"\"\"A* search is best-first graph search with f(n) = g(n)+h(n).\n",
    "    You need to specify the h function when you call astar_search, or\n",
    "    else in your Problem subclass.\"\"\"\n",
    "    h = memoize(h or problem.h, 'h')\n",
    "    return best_first_graph_search(problem, lambda n: n.path_cost + h(n), display)"
   ]
  },
  {
   "cell_type": "code",
   "execution_count": 14,
   "metadata": {},
   "outputs": [],
   "source": [
    "def chebyshev_distance(start, goal):\n",
    "    \"\"\"\n",
    "    Calculate the Chebyshev distance between two points on a grid.\n",
    "\n",
    "    Parameters:\n",
    "    start (tuple): Coordinates of the starting point (x, y).\n",
    "    goal (tuple): Coordinates of the goal point (x, y).\n",
    "\n",
    "    Returns:\n",
    "    int: The Chebyshev distance between the two points.\n",
    "    \"\"\"\n",
    "    x1, y1 = start\n",
    "    x2, y2 = goal\n",
    "    \n",
    "    return max(abs(x2 - x1), abs(y2 - y1))"
   ]
  },
  {
   "cell_type": "code",
   "execution_count": 20,
   "metadata": {},
   "outputs": [],
   "source": [
    "class RobotProblem_chebyshev(Problem):\n",
    "\n",
    "    def __init__(self, initial, goal, map):\n",
    "        Problem.__init__(self, initial, goal)\n",
    "        self.map_data = map_data\n",
    "        self.dimensions = map_data.shape\n",
    "\n",
    "    def actions(self, state):\n",
    "        actions = []\n",
    "        actions.append((state[0], state[1], (state[2] - 1) % 8))\n",
    "        actions.append((state[0], state[1], (state[2] + 1) % 8))\n",
    "        new_position = [state[0] + orientation_vectors[state[2]][0], state[1] + orientation_vectors[state[2]][1]]\n",
    "        if 0 <= new_position[0] < self.dimensions[0] and 0 <= new_position[1] < self.dimensions[1]:\n",
    "            actions.append((new_position[0], new_position[1], state[2]))\n",
    "        return actions\n",
    "    \n",
    "    def result(self, state, action):\n",
    "        return action\n",
    "    \n",
    "    def goal_test(self, state):\n",
    "        return state[:2] == self.goal[:2]\n",
    "    \n",
    "    def path_cost(self, cost_so_far, state1, action, state2):\n",
    "        if state1[:2] == state2[:2]:\n",
    "            return cost_so_far + 1\n",
    "        else:\n",
    "            return cost_so_far + self.map_data[state2[0], state2[1]]\n",
    "    \n",
    "    def h(self, node):\n",
    "        return chebyshev_distance(node.state[:2], self.goal[:2])"
   ]
  },
  {
   "cell_type": "code",
   "execution_count": 25,
   "metadata": {},
   "outputs": [
    {
     "data": {
      "text/plain": [
       "array([[3, 2, 4, 1],\n",
       "       [2, 3, 1, 2],\n",
       "       [1, 4, 2, 3]])"
      ]
     },
     "execution_count": 25,
     "metadata": {},
     "output_type": "execute_result"
    }
   ],
   "source": [
    "dimension, map_data, start_position, end_position = read_map(\"exampleMap.txt\")\n",
    "robot_problem_chebyshev = RobotProblem_chebyshev(start_position, end_position, map_data)\n",
    "robot_problem_chebyshev.map_data"
   ]
  },
  {
   "cell_type": "code",
   "execution_count": 27,
   "metadata": {},
   "outputs": [
    {
     "name": "stdout",
     "output_type": "stream",
     "text": [
      "[(0, 3, 7), (0, 3, 6), (0, 3, 5), (1, 2, 5)]\n",
      "[(0, 3, 0), (0, 3, 1), (0, 3, 7), (0, 3, 2), (0, 3, 6), (0, 3, 3), (0, 3, 5)]\n"
     ]
    }
   ],
   "source": [
    "node, explored = astar_search(robot_problem_chebyshev)\n",
    "print(node.solution())\n",
    "print(explored)"
   ]
  },
  {
   "cell_type": "code",
   "execution_count": 18,
   "metadata": {},
   "outputs": [],
   "source": [
    "def euclidean_scaled_distance(start, goal):\n",
    "    \n",
    "    x1, y1 = start\n",
    "    x2, y2 = goal\n",
    "    \n",
    "    return np.sqrt((x2 - x1)**2 + (y2 - y1)**2)*np.sqrt(2)/2"
   ]
  }
 ],
 "metadata": {
  "kernelspec": {
   "display_name": "Python 3",
   "language": "python",
   "name": "python3"
  },
  "language_info": {
   "codemirror_mode": {
    "name": "ipython",
    "version": 3
   },
   "file_extension": ".py",
   "mimetype": "text/x-python",
   "name": "python",
   "nbconvert_exporter": "python",
   "pygments_lexer": "ipython3",
   "version": "3.7.16"
  }
 },
 "nbformat": 4,
 "nbformat_minor": 2
}
