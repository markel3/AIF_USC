{
 "cells": [
  {
   "cell_type": "markdown",
   "metadata": {},
   "source": [
    "Importamos todos los paquetes necesarios para el proyecto:"
   ]
  },
  {
   "cell_type": "code",
   "execution_count": 26,
   "metadata": {},
   "outputs": [],
   "source": [
    "from search import *\n",
    "import matplotlib.pyplot as plt\n",
    "import os\n",
    "import numpy as np"
   ]
  },
  {
   "cell_type": "markdown",
   "metadata": {},
   "source": [
    "Definimos la orientación de cada vector"
   ]
  },
  {
   "cell_type": "code",
   "execution_count": 27,
   "metadata": {},
   "outputs": [],
   "source": [
    "# Vectores de dirección para las orientaciones\n",
    "orientation_vectors = {\n",
    "    0: (0, -1),   # North\n",
    "    1: (1, -1), # Northeast\n",
    "    2: (1, 0),    # East\n",
    "    3: (1, 1),  # Southeast\n",
    "    4: (0, 1),    # South\n",
    "    5: (-1, 1), # Southwest\n",
    "    6: (-1, 0),   # West\n",
    "    7: (-1, -1) # Northwest\n",
    "}"
   ]
  },
  {
   "cell_type": "code",
   "execution_count": 38,
   "metadata": {},
   "outputs": [],
   "source": [
    "# Vectores de dirección para las orientaciones\n",
    "orientation_vectors = {\n",
    "    0: (-1, 0),   # North\n",
    "    1: (-1, 1), # Northeast\n",
    "    2: (0, 1),    # East\n",
    "    3: (1, 1),  # Southeast\n",
    "    4: (1, 0),    # South\n",
    "    5: (1, -1), # Southwest\n",
    "    6: (0, -1),   # West\n",
    "    7: (-1, -1) # Northwest\n",
    "}"
   ]
  },
  {
   "cell_type": "markdown",
   "metadata": {},
   "source": [
    "## Lectura de los datos"
   ]
  },
  {
   "cell_type": "markdown",
   "metadata": {},
   "source": [
    "La función `read_map` permite procesar los distintos elementos presentes en el fichero de definición del problema. \n",
    "\n",
    "Recibe:\n",
    "- *file*: nombre del fichero.\n",
    "- *origin_dir*: directorio en el que está el fichero. Por defecto toma el de trabajo.\n",
    "\n",
    "Devuelve:\n",
    "- *dimension*: dimensiones del mapa.\n",
    "- *map_data*: matriz con el mapa.\n",
    "- *start_point*: lista de tamaño 3 con el punto y la orientación iniciales.\n",
    "- *end_point*: lista de tamaño 2 con el punto final."
   ]
  },
  {
   "cell_type": "code",
   "execution_count": 28,
   "metadata": {},
   "outputs": [],
   "source": [
    "def read_map(file, origin_dir = os.getcwd()):\n",
    "    \n",
    "    file_path = os.path.join(origin_dir, file)\n",
    "    \n",
    "    # Abrir y leer el archivo\n",
    "    with open(file_path, 'r') as file:\n",
    "        lines = file.readlines()\n",
    "\n",
    "    # Leer la dimensión del mapa (primera línea)\n",
    "    dimension = list(map(int, lines[0].split()))\n",
    "    rows, cols = dimension  # Número de filas y columnas\n",
    "\n",
    "    # Leer el mapa según las dimensiones especificadas\n",
    "    map_data = np.array([list(map(int, lines[i + 1].split())) for i in range(rows)])\n",
    "\n",
    "    # Leer el punto inicial y su orientación (penúltima línea)\n",
    "    start_position = tuple(map(int, lines[-2].split()))\n",
    "\n",
    "    # Leer el punto final y su orientación (última línea)\n",
    "    end_position = tuple(map(int, lines[-1].split()))[:2]\n",
    "    \n",
    "    return dimension, map_data, start_position, end_position"
   ]
  },
  {
   "cell_type": "markdown",
   "metadata": {},
   "source": [
    "La función `draw_map` permite representar visualmente el mapa del problema. \n",
    "\n",
    "Recibe:\n",
    "- *dimension*: dimensiones del mapa.\n",
    "- *map_data*: matriz con el mapa.\n",
    "- *start_point*: lista de tamaño 3 con el punto y la orientación iniciales.\n",
    "- *end_point*: lista de tamaño 2 con el punto final."
   ]
  },
  {
   "cell_type": "code",
   "execution_count": 29,
   "metadata": {},
   "outputs": [],
   "source": [
    "# Mostrar el mapa en una forma visual usando matplotlib\n",
    "def draw_map(dimension, map_data, start_position, end_position):\n",
    "    # Convertir el mapa en una matriz numpy\n",
    "    map_array = np.array(map_data)\n",
    "    \n",
    "    rows, cols = dimension[0], dimension[1]\n",
    "    \n",
    "    orientation = start_position[2]\n",
    "\n",
    "    # Dibujar el mapa\n",
    "    plt.imshow(map_array, cmap=\"Blues\", origin=\"upper\")\n",
    "    \n",
    "    # Agregar los valores de cada celda (peso)\n",
    "    for i in range(rows):\n",
    "        for j in range(cols):\n",
    "            plt.text(j, i, str(map_array[i, j]), color='black', fontsize=12, ha='center', va='center')\n",
    "\n",
    "    # Agregar el punto inicial y final\n",
    "    if orientation == 7:\n",
    "        plt.text(start_position[1]+0.3, start_position[0]+0.3, 'S', color='red', fontsize=12, ha='center', va='center', fontweight='bold')\n",
    "    else:\n",
    "        plt.text(start_position[1]-0.3, start_position[0]-0.3, 'S', color='red', fontsize=12, ha='center', va='center', fontweight='bold')\n",
    "    plt.text(end_position[1]-0.3, end_position[0]-0.3, 'E', color='green', fontsize=12, ha='center', va='center', fontweight='bold')\n",
    "    \n",
    "    # Agregar la orientación inicial como una flecha\n",
    "    arrow_dx, arrow_dy = [x/2 for x in orientation_vectors[orientation]]\n",
    "    plt.arrow(start_position[1]+arrow_dx/2, start_position[0]+arrow_dy/2, arrow_dx, arrow_dy, head_width=0.1, head_length=0.1, fc='red', ec='red')\n",
    "\n",
    "    # Configuración de la cuadrícula\n",
    "    plt.grid(True, color=\"black\", linewidth=1)\n",
    "    plt.xticks(np.arange(cols))\n",
    "    plt.yticks(np.arange(rows))\n",
    "\n",
    "    # Quitar la cuadrícula\n",
    "    plt.axis('off')\n",
    "\n",
    "    # Mostrar el mapa\n",
    "    plt.show()"
   ]
  },
  {
   "cell_type": "markdown",
   "metadata": {},
   "source": [
    "Dibujamos algunos ejemplos:"
   ]
  },
  {
   "cell_type": "code",
   "execution_count": 37,
   "metadata": {},
   "outputs": [
    {
     "data": {
      "image/png": "[encoded data removed]",
      "text/plain": [
       "<Figure size 640x480 with 1 Axes>"
      ]
     },
     "metadata": {},
     "output_type": "display_data"
    }
   ],
   "source": [
    "dimension, map_data, start_position, end_position = read_map(\"exampleMap.txt\")\n",
    "draw_map(dimension, map_data, start_position, end_position)"
   ]
  },
  {
   "cell_type": "code",
   "execution_count": 31,
   "metadata": {},
   "outputs": [
    {
     "data": {
      "image/png": "[encoded data removed]",
      "text/plain": [
       "<Figure size 640x480 with 1 Axes>"
      ]
     },
     "metadata": {},
     "output_type": "display_data"
    }
   ],
   "source": [
    "dimension, map_data, start_position, end_position = read_map(\"exampleMap_2.txt\")\n",
    "draw_map(dimension, map_data, start_position, end_position)"
   ]
  },
  {
   "cell_type": "code",
   "execution_count": 32,
   "metadata": {},
   "outputs": [],
   "source": [
    "class RobotProblem(Problem):\n",
    "\n",
    "    def __init__(self, initial, goal, map):\n",
    "        Problem.__init__(self, initial, goal)\n",
    "        self.map_data = map_data\n",
    "        self.dimensions = map_data.shape\n",
    "\n",
    "    def actions(self, state):\n",
    "        actions = []\n",
    "        actions.append((state[0], state[1], (state[2] - 1) % 8))\n",
    "        actions.append((state[0], state[1], (state[2] + 1) % 8))\n",
    "        new_position = [state[0] + orientation_vectors[state[2]][0], state[1] + orientation_vectors[state[2]][1]]\n",
    "        if 0 <= new_position[0] < self.dimensions[0] and 0 <= new_position[1] < self.dimensions[1]:\n",
    "            actions.append((new_position[0], new_position[1], state[2]))\n",
    "        return actions\n",
    "    \n",
    "    def result(self, state, action):\n",
    "        return action\n",
    "    \n",
    "    def goal_test(self, state):\n",
    "        return state[:2] == self.goal[:2]\n",
    "    \n",
    "    def path_cost(self, cost_so_far, state1, action, state2):\n",
    "        if state1[:2] == state2[:2]:\n",
    "            return cost_so_far + 1\n",
    "        else:\n",
    "            return cost_so_far + self.map_data[state2[0], state2[1]]"
   ]
  },
  {
   "cell_type": "code",
   "execution_count": 39,
   "metadata": {},
   "outputs": [
    {
     "data": {
      "text/plain": [
       "array([[3, 2, 4, 1],\n",
       "       [2, 3, 1, 2],\n",
       "       [1, 4, 2, 3]])"
      ]
     },
     "execution_count": 39,
     "metadata": {},
     "output_type": "execute_result"
    }
   ],
   "source": [
    "dimension, map_data, start_position, end_position = read_map(\"exampleMap.txt\")\n",
    "robot_problem = RobotProblem(start_position, end_position, map_data)\n",
    "robot_problem.map_data"
   ]
  },
  {
   "cell_type": "code",
   "execution_count": 42,
   "metadata": {},
   "outputs": [
    {
     "data": {
      "text/plain": [
       "4"
      ]
     },
     "execution_count": 42,
     "metadata": {},
     "output_type": "execute_result"
    }
   ],
   "source": [
    "node = breadth_first_graph_search(robot_problem)\n",
    "node.solution()\n",
    "node.path_cost\n",
    "#display_visual(romania_graph_data, user_input=False, algorithm=breadth_first_tree_search, problem=robot_problem)"
   ]
  },
  {
   "cell_type": "code",
   "execution_count": null,
   "metadata": {},
   "outputs": [],
   "source": []
  }
 ],
 "metadata": {
  "kernelspec": {
   "display_name": "Python 3",
   "language": "python",
   "name": "python3"
  },
  "language_info": {
   "codemirror_mode": {
    "name": "ipython",
    "version": 3
   },
   "file_extension": ".py",
   "mimetype": "text/x-python",
   "name": "python",
   "nbconvert_exporter": "python",
   "pygments_lexer": "ipython3",
   "version": "3.7.16"
  }
 },
 "nbformat": 4,
 "nbformat_minor": 2
}
