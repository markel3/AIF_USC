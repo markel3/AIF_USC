{
 "cells": [
  {
   "cell_type": "markdown",
   "metadata": {},
   "source": [
    "Importamos todos los paquetes necesarios para el proyecto:"
   ]
  },
  {
   "cell_type": "code",
   "execution_count": 14,
   "metadata": {},
   "outputs": [],
   "source": [
    "from robot_search import *\n",
    "import inspect as ins\n",
    "from IPython.display import display, HTML"
   ]
  },
  {
   "cell_type": "code",
   "execution_count": 15,
   "metadata": {},
   "outputs": [],
   "source": [
    "def print_source(func, font_size='10px'):\n",
    "    try:\n",
    "        # Get the source code of the function\n",
    "        source_code = ins.getsource(func)\n",
    "        # Format the source code as HTML with the specified font size\n",
    "        html_code = f\"<pre style='font-size: {font_size};'>{source_code}</pre>\"\n",
    "        display(HTML(html_code))\n",
    "    except TypeError:\n",
    "        print(\"The provided object is not a valid function.\")\n",
    "    except OSError:\n",
    "        print(\"Could not access the source code of the function.\")"
   ]
  },
  {
   "cell_type": "markdown",
   "metadata": {},
   "source": [
    "## Lectura de los datos"
   ]
  },
  {
   "cell_type": "code",
   "execution_count": 16,
   "metadata": {},
   "outputs": [
    {
     "data": {
      "text/html": [
       "<pre style='font-size: 10px;'>class Map:\n",
       "    \n",
       "    def __init__(self, file, origin_dir = os.getcwd()):\n",
       "        file_path = os.path.join(origin_dir, file)\n",
       "        with open(file_path, 'r') as file:\n",
       "            lines = file.readlines()\n",
       "\n",
       "        dimension = list(map(int, lines[0].split()))\n",
       "        self.rows, self.cols = dimension\n",
       "        self.weights = np.array([list(map(int, lines[i + 1].split())) for i in range(self.rows)])\n",
       "        self.start_position = tuple(map(int, lines[-2].split()))\n",
       "        self.end_position = tuple(map(int, lines[-1].split()))[:2]\n",
       "\n",
       "    def draw_initial(self):\n",
       "        weights_array = np.array(self.weights)\n",
       "        plt.imshow(weights_array, cmap=\"Blues\", origin=\"upper\")\n",
       "        for i in range(self.rows):\n",
       "            for j in range(self.cols):\n",
       "                plt.text(j, i, str(weights_array[i, j]), color='black', fontsize=12, ha='center', va='center')\n",
       "\n",
       "        orientation = self.start_position[2]\n",
       "        if orientation == 7:\n",
       "            plt.text(self.start_position[1]+0.3, self.start_position[0]+0.3, 'S', color='black', fontsize=12, ha='center', va='center', fontweight='bold')\n",
       "        else:\n",
       "            plt.text(self.start_position[1]-0.3, self.start_position[0]-0.3, 'S', color='black', fontsize=12, ha='center', va='center', fontweight='bold')\n",
       "        plt.text(self.end_position[1]-0.3, self.end_position[0]-0.3, 'E', color='green', fontsize=12, ha='center', va='center', fontweight='bold')\n",
       "        \n",
       "        arrow_dy, arrow_dx = [x/2 for x in orientation_vectors[orientation]]\n",
       "        plt.arrow(self.start_position[1]+arrow_dx/2, self.start_position[0]+arrow_dy/2, arrow_dx, arrow_dy, head_width=0.1, head_length=0.1, fc='black', ec='black')\n",
       "\n",
       "        plt.axis('off')\n",
       "\n",
       "        plt.show()\n",
       "    \n",
       "    def draw_solution(self, solution):\n",
       "        weights_array = np.array(self.weights)\n",
       "        plt.imshow(weights_array, cmap=\"Blues\", origin=\"upper\")\n",
       "        for i in range(self.rows):\n",
       "            for j in range(self.cols):\n",
       "                plt.text(j, i, str(weights_array[i, j]), color='black', fontsize=12, ha='center', va='center')\n",
       "\n",
       "        arrow_dy, arrow_dx = [x/2 for x in orientation_vectors[self.start_position[2]]]\n",
       "        plt.arrow(self.start_position[1]+arrow_dx/2, self.start_position[0]+arrow_dy/2, arrow_dx, arrow_dy, head_width=0.1, head_length=0.1, fc='black', ec='black')\n",
       "        \n",
       "        for i in range(1, len(solution)-2):\n",
       "            position = solution[i][:2]\n",
       "            orientation = solution[i][2]\n",
       "            arrow_dy, arrow_dx = [x/2 for x in orientation_vectors[orientation]]\n",
       "            next_position = solution[i+1][:2]\n",
       "            \n",
       "            if next_position != position:\n",
       "                plt.arrow(position[1]+arrow_dx/2, position[0]+arrow_dy/2, arrow_dx, arrow_dy, head_width=0.1, head_length=0.1, fc='red', ec='red')\n",
       "            else:\n",
       "                plt.arrow(position[1]+arrow_dx/2, position[0]+arrow_dy/2, arrow_dx, arrow_dy, head_width=0.1, head_length=0.1, fc='blue', ec='blue')\n",
       "        \n",
       "        position = solution[-2][:2]\n",
       "        orientation = solution[-2][2]\n",
       "        arrow_dy, arrow_dx = [x/2 for x in orientation_vectors[orientation]]\n",
       "        plt.arrow(position[1]+arrow_dx/2, position[0]+arrow_dy/2, arrow_dx, arrow_dy, head_width=0.1, head_length=0.1, fc='green', ec='green')\n",
       "                \n",
       "        plt.axis('off')\n",
       "        plt.show()\n",
       "</pre>"
      ],
      "text/plain": [
       "<IPython.core.display.HTML object>"
      ]
     },
     "metadata": {},
     "output_type": "display_data"
    }
   ],
   "source": [
    "print_source(Map)"
   ]
  },
  {
   "cell_type": "markdown",
   "metadata": {},
   "source": [
    "We read two example maps:"
   ]
  },
  {
   "cell_type": "code",
   "execution_count": 17,
   "metadata": {},
   "outputs": [
    {
     "data": {
      "image/png": "[encoded data removed]",
      "text/plain": [
       "<Figure size 640x480 with 1 Axes>"
      ]
     },
     "metadata": {},
     "output_type": "display_data"
    }
   ],
   "source": [
    "map1 = Map(\"exampleMap.txt\")\n",
    "map1.draw_initial()"
   ]
  },
  {
   "cell_type": "code",
   "execution_count": 18,
   "metadata": {},
   "outputs": [
    {
     "data": {
      "image/png": "[encoded data removed]",
      "text/plain": [
       "<Figure size 640x480 with 1 Axes>"
      ]
     },
     "metadata": {},
     "output_type": "display_data"
    }
   ],
   "source": [
    "map2 = Map(\"exampleMap_2.txt\")\n",
    "map2.draw_initial()"
   ]
  },
  {
   "cell_type": "code",
   "execution_count": 19,
   "metadata": {},
   "outputs": [
    {
     "data": {
      "text/html": [
       "<pre style='font-size: 10px;'>class RobotProblem(Problem):\n",
       "\n",
       "    def __init__(self, map):\n",
       "        Problem.__init__(self, map.start_position, map.end_position)\n",
       "        self.weights = map.weights\n",
       "        self.dimensions = map.weights.shape\n",
       "\n",
       "    def actions(self, state):\n",
       "        actions = []\n",
       "        actions.append((state[0], state[1], (state[2] - 1) % 8))\n",
       "        actions.append((state[0], state[1], (state[2] + 1) % 8))\n",
       "        new_position = [state[0] + orientation_vectors[state[2]][0], state[1] + orientation_vectors[state[2]][1]]\n",
       "        if 0 <= new_position[0] < self.dimensions[0] and 0 <= new_position[1] < self.dimensions[1]:\n",
       "            actions.append((new_position[0], new_position[1], state[2]))\n",
       "        return actions\n",
       "    \n",
       "    def result(self, state, action):\n",
       "        return action\n",
       "    \n",
       "    def goal_test(self, state):\n",
       "        return state[:2] == self.goal[:2]\n",
       "    \n",
       "    def path_cost(self, cost_so_far, state1, action, state2):\n",
       "        if state1[:2] == state2[:2]:\n",
       "            return cost_so_far + 1\n",
       "        else:\n",
       "            return cost_so_far + self.weights[state2[0], state2[1]]\n",
       "</pre>"
      ],
      "text/plain": [
       "<IPython.core.display.HTML object>"
      ]
     },
     "metadata": {},
     "output_type": "display_data"
    }
   ],
   "source": [
    "print_source(RobotProblem)"
   ]
  },
  {
   "cell_type": "code",
   "execution_count": 20,
   "metadata": {},
   "outputs": [],
   "source": [
    "robot_problem = RobotProblem(map1)\n",
    "robot_problem_2 = RobotProblem(map2)"
   ]
  },
  {
   "cell_type": "code",
   "execution_count": 21,
   "metadata": {},
   "outputs": [
    {
     "data": {
      "text/html": [
       "<pre style='font-size: 10px;'>def breadth_first_graph_search(problem):\n",
       "    node = Node(problem.initial)\n",
       "    if problem.goal_test(node.state):\n",
       "        return node\n",
       "    frontier = deque([node])\n",
       "    explored = []\n",
       "    while frontier:\n",
       "        node = frontier.popleft()\n",
       "        explored.append(node.state)\n",
       "        for child in node.expand(problem):\n",
       "            if child.state not in explored and child not in frontier:\n",
       "                if problem.goal_test(child.state):\n",
       "                    return child, explored, frontier\n",
       "                frontier.append(child)\n",
       "    return None\n",
       "</pre>"
      ],
      "text/plain": [
       "<IPython.core.display.HTML object>"
      ]
     },
     "metadata": {},
     "output_type": "display_data"
    }
   ],
   "source": [
    "print_source(breadth_first_graph_search)"
   ]
  },
  {
   "cell_type": "code",
   "execution_count": 22,
   "metadata": {},
   "outputs": [
    {
     "name": "stdout",
     "output_type": "stream",
     "text": [
      "Coste = 4\n",
      "Solución = [(0, 3, 0), (0, 3, 7), (0, 3, 6), (0, 3, 5), (1, 2, 5)]\n",
      "Explorados = [(0, 3, 0), (0, 3, 7), (0, 3, 1), (0, 3, 6), (0, 3, 2), (0, 3, 5)]\n",
      "Frontera final = [(0, 2, 6), (0, 3, 3), (0, 3, 4)]\n"
     ]
    },
    {
     "data": {
      "image/png": "[encoded data removed]",
      "text/plain": [
       "<Figure size 640x480 with 1 Axes>"
      ]
     },
     "metadata": {},
     "output_type": "display_data"
    }
   ],
   "source": [
    "final_node, explored, frontier = breadth_first_graph_search(robot_problem)\n",
    "cost = final_node.path_cost\n",
    "frontier = [frontier[i].state for i in range(len(frontier))]\n",
    "print(f'Coste = ' + str(cost))\n",
    "solution = final_node.solution()\n",
    "solution.insert(0, map1.start_position)\n",
    "print(f'Solución = ' + str(solution))\n",
    "print(f'Explorados = ' + str(explored))\n",
    "print(f'Frontera final = ' + str(frontier))\n",
    "map1.draw_solution(solution)"
   ]
  },
  {
   "cell_type": "code",
   "execution_count": 23,
   "metadata": {},
   "outputs": [
    {
     "name": "stdout",
     "output_type": "stream",
     "text": [
      "Coste = 12\n",
      "Solución = [(3, 4, 6), (3, 4, 7), (3, 4, 0), (2, 4, 0), (1, 4, 0), (0, 4, 0)]\n",
      "Explorados = [(3, 4, 6), (3, 4, 5), (3, 4, 7), (3, 3, 6), (3, 4, 4), (4, 3, 5), (3, 4, 0), (2, 3, 7), (3, 3, 5), (3, 3, 7), (3, 2, 6), (3, 4, 3), (4, 4, 4), (4, 3, 4), (4, 3, 6), (3, 4, 1), (2, 4, 0), (2, 3, 6), (2, 3, 0), (1, 2, 7), (3, 3, 4), (4, 2, 5), (3, 3, 0), (2, 2, 7), (3, 2, 5), (3, 2, 7), (3, 1, 6), (3, 4, 2), (4, 5, 3), (4, 4, 3), (4, 4, 5), (4, 3, 3), (4, 3, 7), (4, 2, 6), (2, 5, 1), (2, 4, 7), (2, 4, 1), (1, 4, 0)]\n",
      "Frontera final = [(2, 3, 5), (2, 2, 6), (2, 3, 1), (1, 3, 0), (1, 2, 6), (1, 2, 0), (0, 1, 7), (3, 3, 3), (4, 2, 4), (3, 3, 1), (2, 2, 0), (1, 1, 7), (3, 2, 4), (4, 1, 5), (3, 2, 0), (2, 1, 7), (3, 1, 5), (3, 1, 7), (3, 0, 6), (3, 5, 2), (4, 5, 2), (4, 5, 4), (4, 4, 2), (4, 4, 6), (4, 3, 2), (4, 3, 0), (4, 2, 7), (4, 1, 6), (2, 5, 0), (2, 5, 2), (1, 6, 1), (2, 4, 6), (1, 3, 7), (2, 4, 2), (1, 5, 1), (1, 4, 7), (1, 4, 1)]\n"
     ]
    },
    {
     "data": {
      "image/png": "[encoded data removed]",
      "text/plain": [
       "<Figure size 640x480 with 1 Axes>"
      ]
     },
     "metadata": {},
     "output_type": "display_data"
    }
   ],
   "source": [
    "final_node, explored, frontier = breadth_first_graph_search(robot_problem_2)\n",
    "cost = final_node.path_cost\n",
    "frontier = [frontier[i].state for i in range(len(frontier))]\n",
    "print(f'Coste = ' + str(cost))\n",
    "solution = final_node.solution()\n",
    "solution.insert(0, map2.start_position)\n",
    "print(f'Solución = ' + str(solution))\n",
    "print(f'Explorados = ' + str(explored))\n",
    "print(f'Frontera final = ' + str(frontier))\n",
    "map2.draw_solution(solution)"
   ]
  },
  {
   "cell_type": "code",
   "execution_count": 24,
   "metadata": {},
   "outputs": [
    {
     "data": {
      "text/html": [
       "<pre style='font-size: 10px;'>def depth_first_graph_search(problem):\n",
       "    frontier = [(Node(problem.initial))]\n",
       "\n",
       "    explored = []\n",
       "    while frontier:\n",
       "        node = frontier.pop()\n",
       "        if problem.goal_test(node.state):\n",
       "            return node, explored, frontier\n",
       "        explored.append(node.state)\n",
       "        frontier.extend(child for child in node.expand(problem)\n",
       "                        if child.state not in explored and child not in frontier)\n",
       "    return None\n",
       "</pre>"
      ],
      "text/plain": [
       "<IPython.core.display.HTML object>"
      ]
     },
     "metadata": {},
     "output_type": "display_data"
    }
   ],
   "source": [
    "print_source(depth_first_graph_search)"
   ]
  },
  {
   "cell_type": "code",
   "execution_count": 25,
   "metadata": {},
   "outputs": [
    {
     "name": "stdout",
     "output_type": "stream",
     "text": [
      "Coste = 36\n",
      "Solución = [(0, 3, 0), (0, 3, 1), (0, 3, 2), (0, 3, 3), (0, 3, 4), (1, 3, 4), (2, 3, 4), (2, 3, 5), (2, 3, 6), (2, 2, 6), (2, 1, 6), (2, 0, 6), (2, 0, 7), (2, 0, 0), (1, 0, 0), (0, 0, 0), (0, 0, 1), (0, 0, 2), (0, 1, 2), (0, 2, 2), (0, 2, 3), (0, 2, 4), (1, 2, 4)]\n",
      "Explorados = [(0, 3, 0), (0, 3, 1), (0, 3, 2), (0, 3, 3), (0, 3, 4), (1, 3, 4), (2, 3, 4), (2, 3, 5), (2, 3, 6), (2, 2, 6), (2, 1, 6), (2, 0, 6), (2, 0, 7), (2, 0, 0), (1, 0, 0), (0, 0, 0), (0, 0, 1), (0, 0, 2), (0, 1, 2), (0, 2, 2), (0, 2, 3), (0, 2, 4)]\n",
      "Frontera final = [(0, 3, 7), (0, 3, 5), (1, 3, 3), (1, 3, 5), (2, 3, 3), (2, 3, 7), (2, 2, 5), (2, 2, 7), (2, 1, 5), (2, 1, 7), (2, 0, 5), (2, 0, 1), (1, 0, 7), (1, 0, 1), (0, 0, 7), (0, 0, 3), (0, 1, 1), (0, 1, 3), (0, 2, 1), (0, 2, 5)]\n"
     ]
    },
    {
     "data": {
      "image/png": "[encoded data removed]",
      "text/plain": [
       "<Figure size 640x480 with 1 Axes>"
      ]
     },
     "metadata": {},
     "output_type": "display_data"
    }
   ],
   "source": [
    "final_node, explored, frontier = depth_first_graph_search(robot_problem)\n",
    "cost = final_node.path_cost\n",
    "frontier = [frontier[i].state for i in range(len(frontier))]\n",
    "print(f'Coste = ' + str(cost))\n",
    "solution = final_node.solution()\n",
    "solution.insert(0, map1.start_position)\n",
    "print(f'Solución = ' + str(solution))\n",
    "print(f'Explorados = ' + str(explored))\n",
    "print(f'Frontera final = ' + str(frontier))\n",
    "map1.draw_solution(solution)"
   ]
  },
  {
   "cell_type": "code",
   "execution_count": 26,
   "metadata": {},
   "outputs": [
    {
     "name": "stdout",
     "output_type": "stream",
     "text": [
      "Coste = 35\n",
      "Solución = [(3, 4, 6), (3, 3, 6), (3, 2, 6), (3, 1, 6), (3, 0, 6), (3, 0, 7), (3, 0, 0), (2, 0, 0), (1, 0, 0), (0, 0, 0), (0, 0, 1), (0, 0, 2), (0, 1, 2), (0, 2, 2), (0, 3, 2), (0, 4, 2)]\n",
      "Explorados = [(3, 4, 6), (3, 3, 6), (3, 2, 6), (3, 1, 6), (3, 0, 6), (3, 0, 7), (3, 0, 0), (2, 0, 0), (1, 0, 0), (0, 0, 0), (0, 0, 1), (0, 0, 2), (0, 1, 2), (0, 2, 2), (0, 3, 2)]\n",
      "Frontera final = [(3, 4, 5), (3, 4, 7), (3, 3, 5), (3, 3, 7), (3, 2, 5), (3, 2, 7), (3, 1, 5), (3, 1, 7), (3, 0, 5), (3, 0, 1), (2, 0, 7), (2, 0, 1), (1, 0, 7), (1, 0, 1), (0, 0, 7), (0, 0, 3), (0, 1, 1), (0, 1, 3), (0, 2, 1), (0, 2, 3), (0, 3, 1), (0, 3, 3)]\n"
     ]
    },
    {
     "data": {
      "image/png": "[encoded data removed]",
      "text/plain": [
       "<Figure size 640x480 with 1 Axes>"
      ]
     },
     "metadata": {},
     "output_type": "display_data"
    }
   ],
   "source": [
    "final_node, explored, frontier = depth_first_graph_search(robot_problem_2)\n",
    "cost = final_node.path_cost\n",
    "frontier = [frontier[i].state for i in range(len(frontier))]\n",
    "print(f'Coste = ' + str(cost))\n",
    "solution = final_node.solution()\n",
    "solution.insert(0, map2.start_position)\n",
    "print(f'Solución = ' + str(solution))\n",
    "print(f'Explorados = ' + str(explored))\n",
    "print(f'Frontera final = ' + str(frontier))\n",
    "map2.draw_solution(solution)"
   ]
  },
  {
   "cell_type": "code",
   "execution_count": 28,
   "metadata": {},
   "outputs": [
    {
     "data": {
      "text/html": [
       "<pre style='font-size: 10px;'>def best_first_graph_search(problem, f, display=False):\n",
       "    f = memoize(f, 'f')\n",
       "    node = Node(problem.initial)\n",
       "    frontier = PriorityQueue('min', f)\n",
       "    frontier.append(node)\n",
       "    explored = []\n",
       "    while frontier:\n",
       "        node = frontier.pop()\n",
       "        if problem.goal_test(node.state):\n",
       "            if display:\n",
       "                print(len(explored), \"paths have been expanded and\", len(frontier), \"paths remain in the frontier\")\n",
       "            return node, explored, frontier\n",
       "        explored.append(node.state)\n",
       "        for child in node.expand(problem):\n",
       "            if child.state not in explored and child not in frontier:\n",
       "                frontier.append(child)\n",
       "            elif child in frontier:\n",
       "                if f(child) < frontier[child]:\n",
       "                    del frontier[child]\n",
       "                    frontier.append(child)\n",
       "    return None\n",
       "</pre>"
      ],
      "text/plain": [
       "<IPython.core.display.HTML object>"
      ]
     },
     "metadata": {},
     "output_type": "display_data"
    },
    {
     "data": {
      "text/html": [
       "<pre style='font-size: 10px;'>def astar_search(problem, h=None, display=False):\n",
       "    h = memoize(h or problem.h, 'h')\n",
       "    return best_first_graph_search(problem, lambda n: n.path_cost + h(n), display)\n",
       "</pre>"
      ],
      "text/plain": [
       "<IPython.core.display.HTML object>"
      ]
     },
     "metadata": {},
     "output_type": "display_data"
    }
   ],
   "source": [
    "print_source(best_first_graph_search)\n",
    "print_source(astar_search)"
   ]
  },
  {
   "cell_type": "code",
   "execution_count": 30,
   "metadata": {},
   "outputs": [
    {
     "data": {
      "text/html": [
       "<pre style='font-size: 10px;'>def chebyshev_distance(start, goal):\n",
       "    x1, y1 = start\n",
       "    x2, y2 = goal\n",
       "    \n",
       "    return max(abs(x2 - x1), abs(y2 - y1))\n",
       "</pre>"
      ],
      "text/plain": [
       "<IPython.core.display.HTML object>"
      ]
     },
     "metadata": {},
     "output_type": "display_data"
    },
    {
     "data": {
      "text/html": [
       "<pre style='font-size: 10px;'>class RobotProblem_Chebyshev(RobotProblem):\n",
       "\n",
       "    def __init__(self, map):\n",
       "        RobotProblem.__init__(self, map)\n",
       "        \n",
       "    def h(self, node):\n",
       "        return chebyshev_distance(node.state[:2], self.goal[:2])\n",
       "</pre>"
      ],
      "text/plain": [
       "<IPython.core.display.HTML object>"
      ]
     },
     "metadata": {},
     "output_type": "display_data"
    }
   ],
   "source": [
    "print_source(chebyshev_distance)\n",
    "print_source(RobotProblem_Chebyshev)"
   ]
  },
  {
   "cell_type": "code",
   "execution_count": 31,
   "metadata": {},
   "outputs": [],
   "source": [
    "robot_problem_chebyshev = RobotProblem_Chebyshev(map1)\n",
    "robot_problem_2_chebyshev = RobotProblem_Chebyshev(map2)"
   ]
  },
  {
   "cell_type": "code",
   "execution_count": 32,
   "metadata": {},
   "outputs": [
    {
     "name": "stdout",
     "output_type": "stream",
     "text": [
      "Coste = 4\n",
      "Solución = [(0, 3, 0), (0, 3, 7), (0, 3, 6), (0, 3, 5), (1, 2, 5)]\n",
      "Explorados = [(0, 3, 0), (0, 3, 1), (0, 3, 7), (0, 3, 2), (0, 3, 6), (0, 3, 3), (0, 3, 5)]\n",
      "Frontera final = [(0, 3, 4), (0, 2, 6)]\n"
     ]
    },
    {
     "data": {
      "image/png": "[encoded data removed]",
      "text/plain": [
       "<Figure size 640x480 with 1 Axes>"
      ]
     },
     "metadata": {},
     "output_type": "display_data"
    }
   ],
   "source": [
    "final_node, explored, frontier = astar_search(robot_problem_chebyshev)\n",
    "cost = final_node.path_cost\n",
    "frontier = [node.state for _, node in frontier.heap]\n",
    "print(f'Coste = ' + str(cost))\n",
    "solution = final_node.solution()\n",
    "solution.insert(0, map1.start_position)\n",
    "print(f'Solución = ' + str(solution))\n",
    "print(f'Explorados = ' + str(explored))\n",
    "print(f'Frontera final = ' + str(frontier))\n",
    "map1.draw_solution(solution)"
   ]
  },
  {
   "cell_type": "code",
   "execution_count": 33,
   "metadata": {},
   "outputs": [
    {
     "name": "stdout",
     "output_type": "stream",
     "text": [
      "Coste = 11\n",
      "Solución = [(3, 4, 6), (3, 4, 7), (2, 3, 7), (2, 3, 0), (1, 3, 0), (1, 3, 1), (0, 4, 1)]\n",
      "Explorados = [(3, 4, 6), (3, 4, 5), (3, 4, 7), (3, 4, 0), (3, 4, 4), (2, 3, 7), (3, 4, 1), (3, 4, 3), (1, 2, 7), (2, 3, 0), (2, 3, 6), (2, 5, 1), (3, 4, 2), (4, 3, 5), (1, 2, 0), (1, 2, 6), (1, 3, 0), (2, 3, 1), (2, 3, 5), (2, 4, 0), (2, 5, 0), (2, 5, 2), (3, 3, 6), (4, 3, 4), (4, 3, 6), (4, 4, 4), (0, 3, 0), (1, 2, 1), (0, 3, 1), (1, 2, 5), (1, 3, 1), (1, 3, 7), (1, 6, 1), (2, 2, 6), (2, 3, 2), (2, 3, 4), (2, 4, 1), (2, 4, 7), (2, 5, 3), (2, 5, 7), (2, 6, 2), (3, 2, 6), (3, 3, 5), (3, 3, 7), (4, 2, 6), (4, 3, 3), (4, 3, 7), (3, 2, 7), (4, 4, 3), (4, 4, 5), (0, 1, 7), (0, 3, 2), (0, 3, 7), (1, 2, 2), (1, 2, 4), (1, 3, 2), (1, 3, 6), (1, 4, 0), (1, 4, 1), (1, 6, 0), (1, 6, 2), (2, 2, 5), (2, 2, 7), (2, 3, 3), (2, 4, 2), (2, 4, 6), (2, 5, 4), (2, 5, 6), (2, 6, 1), (2, 6, 3), (3, 2, 0), (3, 2, 5), (3, 3, 0), (3, 3, 4), (4, 2, 5), (4, 2, 7), (4, 3, 0), (4, 3, 2), (4, 4, 2), (4, 4, 6), (0, 1, 0), (0, 1, 6), (0, 3, 3), (0, 3, 6)]\n",
      "Frontera final = [(0, 6, 0), (1, 3, 3), (1, 2, 3), (1, 4, 7), (1, 3, 5), (2, 2, 0), (2, 6, 4), (1, 6, 3), (2, 6, 0), (2, 4, 3), (1, 4, 2), (2, 2, 4), (0, 3, 4), (0, 4, 2), (4, 3, 1), (2, 1, 7), (4, 5, 3), (3, 2, 1), (0, 5, 1), (2, 4, 5), (2, 5, 5), (4, 2, 4), (1, 6, 7), (3, 2, 4), (3, 3, 1), (0, 3, 5), (2, 1, 6), (2, 1, 5), (3, 5, 2), (0, 0, 6), (0, 4, 0), (3, 6, 3), (1, 1, 7), (0, 2, 0), (4, 1, 5), (1, 1, 6), (3, 1, 6), (3, 1, 7), (3, 1, 5), (4, 2, 0), (4, 1, 6), (3, 3, 3), (1, 5, 1), (3, 5, 4), (4, 5, 2), (4, 4, 7), (0, 1, 1), (0, 2, 7), (0, 2, 6), (4, 4, 1), (0, 1, 5), (1, 4, 3), (1, 5, 0)]\n"
     ]
    },
    {
     "data": {
      "image/png": "[encoded data removed]",
      "text/plain": [
       "<Figure size 640x480 with 1 Axes>"
      ]
     },
     "metadata": {},
     "output_type": "display_data"
    }
   ],
   "source": [
    "final_node, explored, frontier = astar_search(robot_problem_2_chebyshev)\n",
    "cost = final_node.path_cost\n",
    "frontier = [node.state for _, node in frontier.heap]\n",
    "print(f'Coste = ' + str(cost))\n",
    "solution = final_node.solution()\n",
    "solution.insert(0, map2.start_position)\n",
    "print(f'Solución = ' + str(solution))\n",
    "print(f'Explorados = ' + str(explored))\n",
    "print(f'Frontera final = ' + str(frontier))\n",
    "map2.draw_solution(solution)"
   ]
  },
  {
   "cell_type": "code",
   "execution_count": 34,
   "metadata": {},
   "outputs": [
    {
     "data": {
      "text/html": [
       "<pre style='font-size: 10px;'>def euclidean_scaled_distance(start, goal):\n",
       "    x1, y1 = start\n",
       "    x2, y2 = goal\n",
       "    \n",
       "    return np.sqrt((x2 - x1)**2 + (y2 - y1)**2)*np.sqrt(2)/2\n",
       "</pre>"
      ],
      "text/plain": [
       "<IPython.core.display.HTML object>"
      ]
     },
     "metadata": {},
     "output_type": "display_data"
    },
    {
     "data": {
      "text/html": [
       "<pre style='font-size: 10px;'>class RobotProblem_Euclidean(RobotProblem):\n",
       "\n",
       "    def __init__(self, map):\n",
       "        RobotProblem.__init__(self, map)\n",
       "        \n",
       "    def h(self, node):\n",
       "        return euclidean_scaled_distance(node.state[:2], self.goal[:2])\n",
       "</pre>"
      ],
      "text/plain": [
       "<IPython.core.display.HTML object>"
      ]
     },
     "metadata": {},
     "output_type": "display_data"
    }
   ],
   "source": [
    "print_source(euclidean_scaled_distance)\n",
    "print_source(RobotProblem_Euclidean)"
   ]
  },
  {
   "cell_type": "code",
   "execution_count": 35,
   "metadata": {},
   "outputs": [],
   "source": [
    "robot_problem_euclidean = RobotProblem_Euclidean(map1)\n",
    "robot_problem_2_euclidean = RobotProblem_Euclidean(map2)"
   ]
  },
  {
   "cell_type": "code",
   "execution_count": 36,
   "metadata": {},
   "outputs": [
    {
     "name": "stdout",
     "output_type": "stream",
     "text": [
      "Coste = 4\n",
      "Solución = [(0, 3, 0), (0, 3, 7), (0, 3, 6), (0, 3, 5), (1, 2, 5)]\n",
      "Explorados = [(0, 3, 0), (0, 3, 1), (0, 3, 7), (0, 3, 2), (0, 3, 6), (0, 3, 3), (0, 3, 5)]\n",
      "Frontera final = [(0, 3, 4), (0, 2, 6)]\n"
     ]
    },
    {
     "data": {
      "image/png": "[encoded data removed]",
      "text/plain": [
       "<Figure size 640x480 with 1 Axes>"
      ]
     },
     "metadata": {},
     "output_type": "display_data"
    }
   ],
   "source": [
    "final_node, explored, frontier = astar_search(robot_problem_euclidean)\n",
    "cost = final_node.path_cost\n",
    "frontier = [node.state for _, node in frontier.heap]\n",
    "print(f'Coste = ' + str(cost))\n",
    "solution = final_node.solution()\n",
    "solution.insert(0, map1.start_position)\n",
    "print(f'Solución = ' + str(solution))\n",
    "print(f'Explorados = ' + str(explored))\n",
    "print(f'Frontera final = ' + str(frontier))\n",
    "map1.draw_solution(solution)"
   ]
  },
  {
   "cell_type": "code",
   "execution_count": 37,
   "metadata": {},
   "outputs": [
    {
     "name": "stdout",
     "output_type": "stream",
     "text": [
      "Coste = 11\n",
      "Solución = [(3, 4, 6), (3, 4, 7), (2, 3, 7), (2, 3, 0), (1, 3, 0), (1, 3, 1), (0, 4, 1)]\n",
      "Explorados = [(3, 4, 6), (3, 4, 5), (3, 4, 7), (3, 4, 0), (3, 4, 4), (3, 4, 1), (3, 4, 3), (2, 3, 7), (4, 3, 5), (3, 4, 2), (1, 2, 7), (2, 3, 0), (2, 3, 6), (2, 5, 1), (4, 4, 4), (4, 3, 4), (4, 3, 6), (3, 3, 6), (2, 4, 0), (1, 2, 0), (1, 2, 6), (2, 3, 1), (2, 3, 5), (2, 5, 0), (2, 5, 2), (4, 4, 3), (4, 4, 5), (4, 3, 3), (4, 3, 7), (1, 3, 0), (4, 2, 6), (3, 3, 5), (3, 3, 7), (2, 4, 1), (2, 4, 7), (3, 2, 6), (3, 2, 7), (1, 2, 1), (1, 2, 5), (1, 6, 1), (2, 3, 2), (2, 3, 4), (2, 5, 3), (2, 5, 7), (0, 3, 0), (0, 3, 1), (4, 4, 2), (4, 4, 6), (4, 3, 0), (4, 3, 2), (1, 3, 1), (1, 3, 7), (2, 2, 6), (2, 6, 2), (0, 1, 7), (4, 2, 5), (4, 2, 7), (3, 3, 0), (3, 3, 4), (2, 4, 2), (2, 4, 6), (3, 2, 0), (3, 2, 5), (1, 2, 2), (1, 2, 4), (1, 6, 0), (1, 6, 2), (2, 3, 3), (2, 5, 4), (2, 5, 6), (0, 3, 2), (0, 3, 7), (1, 4, 0), (1, 4, 1), (4, 4, 1), (4, 4, 7), (4, 3, 1), (4, 5, 3), (1, 3, 2), (1, 3, 6), (2, 2, 5), (2, 2, 7), (2, 6, 1), (2, 6, 3), (0, 1, 0), (0, 1, 6), (4, 2, 0), (4, 2, 4), (3, 3, 1), (3, 3, 3), (0, 6, 0), (2, 4, 3), (2, 4, 5), (4, 1, 6), (3, 2, 1), (3, 2, 4), (1, 2, 3), (1, 6, 3), (1, 6, 7), (2, 5, 5), (0, 3, 3), (0, 3, 6), (1, 4, 2), (1, 4, 7), (4, 4, 0), (4, 5, 2), (4, 5, 4)]\n",
      "Frontera final = [(1, 3, 3), (2, 2, 0), (1, 3, 5), (0, 1, 1), (2, 6, 0), (2, 2, 4), (1, 1, 6), (0, 1, 5), (4, 2, 1), (2, 6, 4), (0, 6, 1), (0, 6, 7), (3, 3, 2), (1, 4, 3), (1, 5, 1), (4, 5, 5), (0, 2, 0), (3, 2, 3), (4, 2, 3), (4, 1, 7), (0, 4, 2), (2, 4, 4), (2, 1, 7), (1, 6, 4), (4, 1, 5), (3, 2, 2), (0, 4, 0), (3, 5, 2), (0, 2, 7), (4, 0, 6), (3, 1, 6), (3, 6, 3), (2, 1, 6), (3, 1, 5), (3, 1, 7), (1, 1, 7), (1, 5, 0), (0, 5, 7), (3, 5, 4), (0, 5, 1), (1, 5, 2), (2, 1, 5), (3, 5, 3), (4, 6, 2), (3, 5, 1), (0, 2, 6), (0, 0, 6), (1, 6, 6), (1, 4, 6), (0, 3, 4), (0, 3, 5), (4, 5, 1)]\n"
     ]
    },
    {
     "data": {
      "image/png": "[encoded data removed]",
      "text/plain": [
       "<Figure size 640x480 with 1 Axes>"
      ]
     },
     "metadata": {},
     "output_type": "display_data"
    }
   ],
   "source": [
    "final_node, explored, frontier = astar_search(robot_problem_2_euclidean)\n",
    "cost = final_node.path_cost\n",
    "frontier = [node.state for _, node in frontier.heap]\n",
    "print(f'Coste = ' + str(cost))\n",
    "solution = final_node.solution()\n",
    "solution.insert(0, map2.start_position)\n",
    "print(f'Solución = ' + str(solution))\n",
    "print(f'Explorados = ' + str(explored))\n",
    "print(f'Frontera final = ' + str(frontier))\n",
    "map2.draw_solution(solution)"
   ]
  }
 ],
 "metadata": {
  "kernelspec": {
   "display_name": "Python 3",
   "language": "python",
   "name": "python3"
  },
  "language_info": {
   "codemirror_mode": {
    "name": "ipython",
    "version": 3
   },
   "file_extension": ".py",
   "mimetype": "text/x-python",
   "name": "python",
   "nbconvert_exporter": "python",
   "pygments_lexer": "ipython3",
   "version": "3.10.15"
  }
 },
 "nbformat": 4,
 "nbformat_minor": 2
}
